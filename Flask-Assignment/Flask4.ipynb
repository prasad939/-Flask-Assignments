{
 "cells": [
  {
   "cell_type": "markdown",
   "id": "201dbefe-2a28-4d2f-854a-3e2d83818bbe",
   "metadata": {},
   "source": [
    "### Question.\n",
    "Write a flask app that accepts a parameter in the url and display it on the page."
   ]
  },
  {
   "cell_type": "code",
   "execution_count": null,
   "id": "0afc139c-4172-42e5-8300-26fe63c1a2fa",
   "metadata": {},
   "outputs": [],
   "source": [
    "from flask import Flask\n",
    "\n",
    "app = Flask(__name__)\n",
    "\n",
    "@app.route('/')\n",
    "def home():\n",
    "    return \"Welcome to the home page!\"\n",
    "\n",
    "@app.route('/show/<parameter>')\n",
    "def show(parameter):\n",
    "    return f'The parameter you passed is: {parameter}'\n",
    "\n",
    "if __name__ == '__main__':\n",
    "    app.run(debug=True)"
   ]
  }
 ],
 "metadata": {
  "kernelspec": {
   "display_name": "Python 3 (ipykernel)",
   "language": "python",
   "name": "python3"
  },
  "language_info": {
   "codemirror_mode": {
    "name": "ipython",
    "version": 3
   },
   "file_extension": ".py",
   "mimetype": "text/x-python",
   "name": "python",
   "nbconvert_exporter": "python",
   "pygments_lexer": "ipython3",
   "version": "3.13.5"
  }
 },
 "nbformat": 4,
 "nbformat_minor": 5
}
