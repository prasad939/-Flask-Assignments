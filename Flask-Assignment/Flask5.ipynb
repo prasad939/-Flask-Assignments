{
 "cells": [
  {
   "cell_type": "markdown",
   "id": "be5d4cbc-41ec-413f-bed1-11179ee13f17",
   "metadata": {},
   "source": [
    "### Question. \n",
    "Explain how to set up a flask application to handle form submission using a POST request."
   ]
  },
  {
   "cell_type": "code",
   "execution_count": null,
   "id": "042ef226-cfbd-41e4-a9a9-4ba99b59dc39",
   "metadata": {},
   "outputs": [],
   "source": [
    "## In Flask we can use the POST method to handle form submission.\n",
    "## The following application is a simple example of post method.\n",
    "\n",
    "from flask import Flask, render_template, request\n",
    "\n",
    "app_post=Flask(__name__)\n",
    "\n",
    "@app_post.route('/')\n",
    "def index():\n",
    "    return render_template('FormSubmission.html')\n",
    "\n",
    "@app_post.route('/FormData', methods=[\"POST\", \"GET\"])\n",
    "def formdata():\n",
    "    if request.method==\"POST\":\n",
    "        text=request.form.get('Data')\n",
    "        return f'Data Collected: {text} '\n",
    "    \n",
    "\n",
    "if __name__==\"__main__\":\n",
    "    app_post.run(debug=True)    "
   ]
  }
 ],
 "metadata": {
  "kernelspec": {
   "display_name": "Python 3 (ipykernel)",
   "language": "python",
   "name": "python3"
  },
  "language_info": {
   "codemirror_mode": {
    "name": "ipython",
    "version": 3
   },
   "file_extension": ".py",
   "mimetype": "text/x-python",
   "name": "python",
   "nbconvert_exporter": "python",
   "pygments_lexer": "ipython3",
   "version": "3.13.5"
  }
 },
 "nbformat": 4,
 "nbformat_minor": 5
}
