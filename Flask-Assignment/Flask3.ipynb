{
 "cells": [
  {
   "cell_type": "markdown",
   "id": "4c73d97f-2946-477f-90d3-fd9a160fad99",
   "metadata": {},
   "source": [
    "## Question 3.\n",
    "How would you create a RESTful API endpoint in Flask that returns JSON data?"
   ]
  },
  {
   "cell_type": "code",
   "execution_count": null,
   "id": "2e909b9a-6ad9-48b2-ab5f-1c02727415f5",
   "metadata": {},
   "outputs": [],
   "source": [
    "from flask import Flask, jsonify\n",
    "\n",
    "# Initialize the Flask application\n",
    "RESTful_API = Flask(__name__)\n",
    "\n",
    "# Sample data\n",
    "users = [\n",
    "    {'id': 1, 'username': 'john_doe', 'email': 'john@example.com'},\n",
    "    {'id': 2, 'username': 'jane_doe', 'email': 'jane@example.com'}\n",
    "]\n",
    "\n",
    "# Define a route to return JSON data\n",
    "@RESTful_API.route('/api/users', methods=['GET'])\n",
    "def get_users():\n",
    "    return jsonify(users)\n",
    "\n",
    "# Run the app\n",
    "if __name__ == '__main__':\n",
    "    RESTful_API.run(debug=True)\n",
    "\n",
    "\n",
    "\"\"\"With this setup, when you navigate to http://127.0.0.1:5000/api/users,\n",
    "the application will return the JSON array of users:\"\"\"\n",
    "\n",
    "\"\"\"[\n",
    "    {\n",
    "        \"id\": 1,\n",
    "        \"username\": \"john_doe\",\n",
    "        \"email\": \"john@example.com\"\n",
    "    },\n",
    "    {\n",
    "        \"id\": 2,\n",
    "        \"username\": \"jane_doe\",\n",
    "        \"email\": \"jane@example.com\"\n",
    "    }\n",
    "]"
   ]
  }
 ],
 "metadata": {
  "kernelspec": {
   "display_name": "Python 3 (ipykernel)",
   "language": "python",
   "name": "python3"
  },
  "language_info": {
   "codemirror_mode": {
    "name": "ipython",
    "version": 3
   },
   "file_extension": ".py",
   "mimetype": "text/x-python",
   "name": "python",
   "nbconvert_exporter": "python",
   "pygments_lexer": "ipython3",
   "version": "3.13.5"
  }
 },
 "nbformat": 4,
 "nbformat_minor": 5
}
