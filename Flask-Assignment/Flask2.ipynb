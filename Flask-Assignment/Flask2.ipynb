{
 "cells": [
  {
   "cell_type": "markdown",
   "id": "04cca9a1-c7c3-4a62-821c-6c20d906bfe2",
   "metadata": {},
   "source": [
    "### Question 7.\n",
    "Explain how to use Flask-WTF to create and validate forms in a flask application"
   ]
  },
  {
   "cell_type": "code",
   "execution_count": null,
   "id": "36367748-b384-497a-9e11-7d6038167ac8",
   "metadata": {},
   "outputs": [],
   "source": [
    "# app.py\n",
    "from flask import Flask, render_template, redirect, url_for, flash\n",
    "from flask_wtf import FlaskForm\n",
    "from wtforms import StringField, PasswordField, SubmitField\n",
    "from wtforms.validators import DataRequired, Length, EqualTo\n",
    "\n",
    "app = Flask(__name__)\n",
    "app.config['SECRET_KEY'] = 'your_secret_key'\n",
    "\n",
    "class RegistrationForm(FlaskForm):\n",
    "    username = StringField('Username', \n",
    "                           validators=[DataRequired(), Length(min=2, max=20)])\n",
    "    password = PasswordField('Password', \n",
    "                             validators=[DataRequired()])\n",
    "    confirm_password = PasswordField('Confirm Password', \n",
    "                                     validators=[DataRequired(), EqualTo('password')])\n",
    "    submit = SubmitField('Sign Up')\n",
    "\n",
    "@app.route(\"/register\", methods=['GET', 'POST'])\n",
    "def register():\n",
    "    form = RegistrationForm()\n",
    "    if form.validate_on_submit():\n",
    "        flash(f'Account created for {form.username.data}!', 'success')\n",
    "        return redirect(url_for('home'))\n",
    "    return render_template('FlaskFormsExample.html', form=form)\n",
    "\n",
    "@app.route(\"/home\")\n",
    "def home():\n",
    "    return \"Home Page\"\n",
    "\n",
    "if __name__ == '__main__':\n",
    "    app.run(debug=True)"
   ]
  }
 ],
 "metadata": {
  "kernelspec": {
   "display_name": "Python 3 (ipykernel)",
   "language": "python",
   "name": "python3"
  },
  "language_info": {
   "codemirror_mode": {
    "name": "ipython",
    "version": 3
   },
   "file_extension": ".py",
   "mimetype": "text/x-python",
   "name": "python",
   "nbconvert_exporter": "python",
   "pygments_lexer": "ipython3",
   "version": "3.13.5"
  }
 },
 "nbformat": 4,
 "nbformat_minor": 5
}
