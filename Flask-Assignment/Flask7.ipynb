{
 "cells": [
  {
   "cell_type": "markdown",
   "id": "1b9ceb12-7ca3-4f6e-9389-467ad8bc0775",
   "metadata": {},
   "source": [
    "## Question 1.\n",
    "How can yon implement user authentication in a Flask application?"
   ]
  },
  {
   "cell_type": "markdown",
   "id": "fa88c9ee-5e39-4d6f-bc49-3ef764b82583",
   "metadata": {},
   "source": [
    "1. Set Up Flask App:\n",
    "- A.Initialize Flask app instance.\n",
    "- B.Set configuration variables (e.g., secret key).\n",
    "2. Set Up MongoDB:\n",
    "- A. Connect Flask app to MongoDB using pymongo or Flask-MongoEngine.\n",
    "3. Create User Model:\n",
    "- A. Define a User model/schema to store user information (e.g., username, password).\n",
    "4. Implement Signup:\n",
    "- A. Create a route and a view function to handle user registration/signup.\n",
    "- B. Validate and store user data in MongoDB.\n",
    "5. Implement Signin:\n",
    "- A. Create a route and a view function to handle user login/sign-in.\n",
    "- B. Authenticate user credentials against MongoDB data.\n",
    "6. Session Management:\n",
    "- A. Use Flask session to manage user login state.\n",
    "- B. Implement login/logout functionality.\n",
    "7. Authorization:\n",
    "- A. Implement authorization checks where needed (e.g., access control based on user roles).\n",
    "8. Secure Password Storage:\n",
    "- A. Hash and salt passwords before storing in MongoDB (e.g., using Werkzeug's generate_password_hash).\n",
    "9. Error Handling:\n",
    "- A. Handle errors such as incorrect login credentials, duplicate usernames during signup, etc.\n",
    "10. Logout:\n",
    "- A. Implement logout functionality to clear session data.\n"
   ]
  },
  {
   "cell_type": "markdown",
   "id": "46977ddd-11d3-42c0-9cfd-12c8ec7b7f60",
   "metadata": {},
   "source": [
    "### Question 2.\n",
    "Describe the process of connecting a Flask app to SQLite database using SQLAlchemy"
   ]
  },
  {
   "cell_type": "code",
   "execution_count": null,
   "id": "a5fbe0b7-2321-45cd-937a-dd0323029fdf",
   "metadata": {},
   "outputs": [],
   "source": [
    "## Step 1: Install Required Packages:  pip install flask flask-sqlalchemy\n",
    "\n",
    "##  Import Necessary Libraries\n",
    "from flask import Flask\n",
    "from flask_sqlalchemy import SQLAlchemy\n",
    "\n",
    "app = Flask(__name__)\n",
    "app.config['SQLALCHEMY_DATABASE_URI'] = 'sqlite:///sample.db'  \n",
    "app.config['SQLALCHEMY_TRACK_MODIFICATIONS'] = False\n",
    "db = SQLAlchemy(app)\n",
    "\n",
    "\n",
    "\n",
    "if __name__ == '__main__':\n",
    "    app.run(debug=True)"
   ]
  }
 ],
 "metadata": {
  "kernelspec": {
   "display_name": "Python 3 (ipykernel)",
   "language": "python",
   "name": "python3"
  },
  "language_info": {
   "codemirror_mode": {
    "name": "ipython",
    "version": 3
   },
   "file_extension": ".py",
   "mimetype": "text/x-python",
   "name": "python",
   "nbconvert_exporter": "python",
   "pygments_lexer": "ipython3",
   "version": "3.13.5"
  }
 },
 "nbformat": 4,
 "nbformat_minor": 5
}
