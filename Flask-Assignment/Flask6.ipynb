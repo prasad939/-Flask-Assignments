{
 "cells": [
  {
   "cell_type": "markdown",
   "id": "58506f14-85eb-40d7-98c8-4319cd624128",
   "metadata": {},
   "source": [
    "## Question 6.\n",
    "How would you create a basic flask route that displays \"Hello, World!\" on the homepage?"
   ]
  },
  {
   "cell_type": "code",
   "execution_count": null,
   "id": "1e962b1e-d097-4e18-b8e6-c9338af8a000",
   "metadata": {},
   "outputs": [],
   "source": [
    "## Creating simple flask app that display Hello, world!  \n",
    "from flask import Flask\n",
    "\n",
    "hello_world=Flask(__name__)\n",
    "\n",
    "@hello_world.route('/')\n",
    "def hello():\n",
    "    return \"Hello, World!\"\n",
    "if __name__==\"__main__\":\n",
    "    hello_world.run(debug=True)  "
   ]
  },
  {
   "cell_type": "markdown",
   "id": "18e11085-23dd-47cf-b725-8b0dc071be51",
   "metadata": {},
   "source": [
    "##### \"\"\"Access the URL: Open your web browser and go to http://127.0.0.1:5000/show/your_parameter_here. \n",
    "Replace your_parameter_here with any value you want to pass as a parameter.\"\"\""
   ]
  },
  {
   "cell_type": "code",
   "execution_count": null,
   "id": "2c7b5d0e-fbd2-4dad-acfd-69e547b73744",
   "metadata": {},
   "outputs": [],
   "source": []
  }
 ],
 "metadata": {
  "kernelspec": {
   "display_name": "Python 3 (ipykernel)",
   "language": "python",
   "name": "python3"
  },
  "language_info": {
   "codemirror_mode": {
    "name": "ipython",
    "version": 3
   },
   "file_extension": ".py",
   "mimetype": "text/x-python",
   "name": "python",
   "nbconvert_exporter": "python",
   "pygments_lexer": "ipython3",
   "version": "3.13.5"
  }
 },
 "nbformat": 4,
 "nbformat_minor": 5
}
